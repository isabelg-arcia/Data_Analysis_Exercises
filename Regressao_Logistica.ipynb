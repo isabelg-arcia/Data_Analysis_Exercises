{
  "nbformat": 4,
  "nbformat_minor": 0,
  "metadata": {
    "colab": {
      "provenance": [],
      "include_colab_link": true
    },
    "kernelspec": {
      "name": "python3",
      "display_name": "Python 3"
    },
    "language_info": {
      "name": "python"
    }
  },
  "cells": [
    {
      "cell_type": "markdown",
      "metadata": {
        "id": "view-in-github",
        "colab_type": "text"
      },
      "source": [
        "<a href=\"https://colab.research.google.com/github/isabelg-arcia/Data_Analysis_Exercises/blob/main/Regressao_Logistica.ipynb\" target=\"_parent\"><img src=\"https://colab.research.google.com/assets/colab-badge.svg\" alt=\"Open In Colab\"/></a>"
      ]
    },
    {
      "cell_type": "code",
      "execution_count": null,
      "metadata": {
        "id": "mMU_jKhZ-hZf"
      },
      "outputs": [],
      "source": [
        "# importando os pacotes que serão utilizados\n",
        "\n",
        "import pandas as pd\n",
        "from sklearn.model_selection import train_test_split\n",
        "from sklearn.linear_model import LogisticRegression\n",
        "from sklearn.metrics import accuracy_score, confusion_matrix, classification_report\n",
        "import statsmodels.api as sm\n",
        "import matplotlib.pyplot as plt\n",
        "from google.colab import drive\n",
        "from sklearn.metrics import roc_curve, roc_auc_score\n"
      ]
    },
    {
      "cell_type": "code",
      "source": [
        "# lendo a base de dados disponibilizada\n",
        "\n",
        "df_dados = pd.read_csv(\"Heart_disease_statlog.csv\")"
      ],
      "metadata": {
        "id": "Fm6m-wEs-_jf"
      },
      "execution_count": null,
      "outputs": []
    },
    {
      "cell_type": "code",
      "source": [
        "df_dados.head(10)"
      ],
      "metadata": {
        "colab": {
          "base_uri": "https://localhost:8080/",
          "height": 363
        },
        "id": "u89_VJem_FKy",
        "outputId": "550214a2-d360-4f3b-e331-16c37bb8897f"
      },
      "execution_count": null,
      "outputs": [
        {
          "output_type": "execute_result",
          "data": {
            "text/plain": [
              "   age  sex  cp  trestbps  chol  fbs  restecg  thalach  exang  oldpeak  slope  \\\n",
              "0   70    1   3       130   322    0        2      109      0      2.4      1   \n",
              "1   67    0   2       115   564    0        2      160      0      1.6      1   \n",
              "2   57    1   1       124   261    0        0      141      0      0.3      0   \n",
              "3   64    1   3       128   263    0        0      105      1      0.2      1   \n",
              "4   74    0   1       120   269    0        2      121      1      0.2      0   \n",
              "5   65    1   3       120   177    0        0      140      0      0.4      0   \n",
              "6   56    1   2       130   256    1        2      142      1      0.6      1   \n",
              "7   59    1   3       110   239    0        2      142      1      1.2      1   \n",
              "8   60    1   3       140   293    0        2      170      0      1.2      1   \n",
              "9   63    0   3       150   407    0        2      154      0      4.0      1   \n",
              "\n",
              "   ca  thal  target  \n",
              "0   3     1       1  \n",
              "1   0     3       0  \n",
              "2   0     3       1  \n",
              "3   1     3       0  \n",
              "4   1     1       0  \n",
              "5   0     3       0  \n",
              "6   1     2       1  \n",
              "7   1     3       1  \n",
              "8   2     3       1  \n",
              "9   3     3       1  "
            ],
            "text/html": [
              "\n",
              "  <div id=\"df-7b4aed0a-a3df-4e4b-99d9-a4311b49d85d\">\n",
              "    <div class=\"colab-df-container\">\n",
              "      <div>\n",
              "<style scoped>\n",
              "    .dataframe tbody tr th:only-of-type {\n",
              "        vertical-align: middle;\n",
              "    }\n",
              "\n",
              "    .dataframe tbody tr th {\n",
              "        vertical-align: top;\n",
              "    }\n",
              "\n",
              "    .dataframe thead th {\n",
              "        text-align: right;\n",
              "    }\n",
              "</style>\n",
              "<table border=\"1\" class=\"dataframe\">\n",
              "  <thead>\n",
              "    <tr style=\"text-align: right;\">\n",
              "      <th></th>\n",
              "      <th>age</th>\n",
              "      <th>sex</th>\n",
              "      <th>cp</th>\n",
              "      <th>trestbps</th>\n",
              "      <th>chol</th>\n",
              "      <th>fbs</th>\n",
              "      <th>restecg</th>\n",
              "      <th>thalach</th>\n",
              "      <th>exang</th>\n",
              "      <th>oldpeak</th>\n",
              "      <th>slope</th>\n",
              "      <th>ca</th>\n",
              "      <th>thal</th>\n",
              "      <th>target</th>\n",
              "    </tr>\n",
              "  </thead>\n",
              "  <tbody>\n",
              "    <tr>\n",
              "      <th>0</th>\n",
              "      <td>70</td>\n",
              "      <td>1</td>\n",
              "      <td>3</td>\n",
              "      <td>130</td>\n",
              "      <td>322</td>\n",
              "      <td>0</td>\n",
              "      <td>2</td>\n",
              "      <td>109</td>\n",
              "      <td>0</td>\n",
              "      <td>2.4</td>\n",
              "      <td>1</td>\n",
              "      <td>3</td>\n",
              "      <td>1</td>\n",
              "      <td>1</td>\n",
              "    </tr>\n",
              "    <tr>\n",
              "      <th>1</th>\n",
              "      <td>67</td>\n",
              "      <td>0</td>\n",
              "      <td>2</td>\n",
              "      <td>115</td>\n",
              "      <td>564</td>\n",
              "      <td>0</td>\n",
              "      <td>2</td>\n",
              "      <td>160</td>\n",
              "      <td>0</td>\n",
              "      <td>1.6</td>\n",
              "      <td>1</td>\n",
              "      <td>0</td>\n",
              "      <td>3</td>\n",
              "      <td>0</td>\n",
              "    </tr>\n",
              "    <tr>\n",
              "      <th>2</th>\n",
              "      <td>57</td>\n",
              "      <td>1</td>\n",
              "      <td>1</td>\n",
              "      <td>124</td>\n",
              "      <td>261</td>\n",
              "      <td>0</td>\n",
              "      <td>0</td>\n",
              "      <td>141</td>\n",
              "      <td>0</td>\n",
              "      <td>0.3</td>\n",
              "      <td>0</td>\n",
              "      <td>0</td>\n",
              "      <td>3</td>\n",
              "      <td>1</td>\n",
              "    </tr>\n",
              "    <tr>\n",
              "      <th>3</th>\n",
              "      <td>64</td>\n",
              "      <td>1</td>\n",
              "      <td>3</td>\n",
              "      <td>128</td>\n",
              "      <td>263</td>\n",
              "      <td>0</td>\n",
              "      <td>0</td>\n",
              "      <td>105</td>\n",
              "      <td>1</td>\n",
              "      <td>0.2</td>\n",
              "      <td>1</td>\n",
              "      <td>1</td>\n",
              "      <td>3</td>\n",
              "      <td>0</td>\n",
              "    </tr>\n",
              "    <tr>\n",
              "      <th>4</th>\n",
              "      <td>74</td>\n",
              "      <td>0</td>\n",
              "      <td>1</td>\n",
              "      <td>120</td>\n",
              "      <td>269</td>\n",
              "      <td>0</td>\n",
              "      <td>2</td>\n",
              "      <td>121</td>\n",
              "      <td>1</td>\n",
              "      <td>0.2</td>\n",
              "      <td>0</td>\n",
              "      <td>1</td>\n",
              "      <td>1</td>\n",
              "      <td>0</td>\n",
              "    </tr>\n",
              "    <tr>\n",
              "      <th>5</th>\n",
              "      <td>65</td>\n",
              "      <td>1</td>\n",
              "      <td>3</td>\n",
              "      <td>120</td>\n",
              "      <td>177</td>\n",
              "      <td>0</td>\n",
              "      <td>0</td>\n",
              "      <td>140</td>\n",
              "      <td>0</td>\n",
              "      <td>0.4</td>\n",
              "      <td>0</td>\n",
              "      <td>0</td>\n",
              "      <td>3</td>\n",
              "      <td>0</td>\n",
              "    </tr>\n",
              "    <tr>\n",
              "      <th>6</th>\n",
              "      <td>56</td>\n",
              "      <td>1</td>\n",
              "      <td>2</td>\n",
              "      <td>130</td>\n",
              "      <td>256</td>\n",
              "      <td>1</td>\n",
              "      <td>2</td>\n",
              "      <td>142</td>\n",
              "      <td>1</td>\n",
              "      <td>0.6</td>\n",
              "      <td>1</td>\n",
              "      <td>1</td>\n",
              "      <td>2</td>\n",
              "      <td>1</td>\n",
              "    </tr>\n",
              "    <tr>\n",
              "      <th>7</th>\n",
              "      <td>59</td>\n",
              "      <td>1</td>\n",
              "      <td>3</td>\n",
              "      <td>110</td>\n",
              "      <td>239</td>\n",
              "      <td>0</td>\n",
              "      <td>2</td>\n",
              "      <td>142</td>\n",
              "      <td>1</td>\n",
              "      <td>1.2</td>\n",
              "      <td>1</td>\n",
              "      <td>1</td>\n",
              "      <td>3</td>\n",
              "      <td>1</td>\n",
              "    </tr>\n",
              "    <tr>\n",
              "      <th>8</th>\n",
              "      <td>60</td>\n",
              "      <td>1</td>\n",
              "      <td>3</td>\n",
              "      <td>140</td>\n",
              "      <td>293</td>\n",
              "      <td>0</td>\n",
              "      <td>2</td>\n",
              "      <td>170</td>\n",
              "      <td>0</td>\n",
              "      <td>1.2</td>\n",
              "      <td>1</td>\n",
              "      <td>2</td>\n",
              "      <td>3</td>\n",
              "      <td>1</td>\n",
              "    </tr>\n",
              "    <tr>\n",
              "      <th>9</th>\n",
              "      <td>63</td>\n",
              "      <td>0</td>\n",
              "      <td>3</td>\n",
              "      <td>150</td>\n",
              "      <td>407</td>\n",
              "      <td>0</td>\n",
              "      <td>2</td>\n",
              "      <td>154</td>\n",
              "      <td>0</td>\n",
              "      <td>4.0</td>\n",
              "      <td>1</td>\n",
              "      <td>3</td>\n",
              "      <td>3</td>\n",
              "      <td>1</td>\n",
              "    </tr>\n",
              "  </tbody>\n",
              "</table>\n",
              "</div>\n",
              "      <button class=\"colab-df-convert\" onclick=\"convertToInteractive('df-7b4aed0a-a3df-4e4b-99d9-a4311b49d85d')\"\n",
              "              title=\"Convert this dataframe to an interactive table.\"\n",
              "              style=\"display:none;\">\n",
              "        \n",
              "  <svg xmlns=\"http://www.w3.org/2000/svg\" height=\"24px\"viewBox=\"0 0 24 24\"\n",
              "       width=\"24px\">\n",
              "    <path d=\"M0 0h24v24H0V0z\" fill=\"none\"/>\n",
              "    <path d=\"M18.56 5.44l.94 2.06.94-2.06 2.06-.94-2.06-.94-.94-2.06-.94 2.06-2.06.94zm-11 1L8.5 8.5l.94-2.06 2.06-.94-2.06-.94L8.5 2.5l-.94 2.06-2.06.94zm10 10l.94 2.06.94-2.06 2.06-.94-2.06-.94-.94-2.06-.94 2.06-2.06.94z\"/><path d=\"M17.41 7.96l-1.37-1.37c-.4-.4-.92-.59-1.43-.59-.52 0-1.04.2-1.43.59L10.3 9.45l-7.72 7.72c-.78.78-.78 2.05 0 2.83L4 21.41c.39.39.9.59 1.41.59.51 0 1.02-.2 1.41-.59l7.78-7.78 2.81-2.81c.8-.78.8-2.07 0-2.86zM5.41 20L4 18.59l7.72-7.72 1.47 1.35L5.41 20z\"/>\n",
              "  </svg>\n",
              "      </button>\n",
              "      \n",
              "  <style>\n",
              "    .colab-df-container {\n",
              "      display:flex;\n",
              "      flex-wrap:wrap;\n",
              "      gap: 12px;\n",
              "    }\n",
              "\n",
              "    .colab-df-convert {\n",
              "      background-color: #E8F0FE;\n",
              "      border: none;\n",
              "      border-radius: 50%;\n",
              "      cursor: pointer;\n",
              "      display: none;\n",
              "      fill: #1967D2;\n",
              "      height: 32px;\n",
              "      padding: 0 0 0 0;\n",
              "      width: 32px;\n",
              "    }\n",
              "\n",
              "    .colab-df-convert:hover {\n",
              "      background-color: #E2EBFA;\n",
              "      box-shadow: 0px 1px 2px rgba(60, 64, 67, 0.3), 0px 1px 3px 1px rgba(60, 64, 67, 0.15);\n",
              "      fill: #174EA6;\n",
              "    }\n",
              "\n",
              "    [theme=dark] .colab-df-convert {\n",
              "      background-color: #3B4455;\n",
              "      fill: #D2E3FC;\n",
              "    }\n",
              "\n",
              "    [theme=dark] .colab-df-convert:hover {\n",
              "      background-color: #434B5C;\n",
              "      box-shadow: 0px 1px 3px 1px rgba(0, 0, 0, 0.15);\n",
              "      filter: drop-shadow(0px 1px 2px rgba(0, 0, 0, 0.3));\n",
              "      fill: #FFFFFF;\n",
              "    }\n",
              "  </style>\n",
              "\n",
              "      <script>\n",
              "        const buttonEl =\n",
              "          document.querySelector('#df-7b4aed0a-a3df-4e4b-99d9-a4311b49d85d button.colab-df-convert');\n",
              "        buttonEl.style.display =\n",
              "          google.colab.kernel.accessAllowed ? 'block' : 'none';\n",
              "\n",
              "        async function convertToInteractive(key) {\n",
              "          const element = document.querySelector('#df-7b4aed0a-a3df-4e4b-99d9-a4311b49d85d');\n",
              "          const dataTable =\n",
              "            await google.colab.kernel.invokeFunction('convertToInteractive',\n",
              "                                                     [key], {});\n",
              "          if (!dataTable) return;\n",
              "\n",
              "          const docLinkHtml = 'Like what you see? Visit the ' +\n",
              "            '<a target=\"_blank\" href=https://colab.research.google.com/notebooks/data_table.ipynb>data table notebook</a>'\n",
              "            + ' to learn more about interactive tables.';\n",
              "          element.innerHTML = '';\n",
              "          dataTable['output_type'] = 'display_data';\n",
              "          await google.colab.output.renderOutput(dataTable, element);\n",
              "          const docLink = document.createElement('div');\n",
              "          docLink.innerHTML = docLinkHtml;\n",
              "          element.appendChild(docLink);\n",
              "        }\n",
              "      </script>\n",
              "    </div>\n",
              "  </div>\n",
              "  "
            ]
          },
          "metadata": {},
          "execution_count": 48
        }
      ]
    },
    {
      "cell_type": "code",
      "source": [
        "# Transformação em dummys\n",
        "dados_dummies = pd.get_dummies(df_dados, columns=['cp', 'ca', 'thal'], drop_first=True)\n",
        "dados_dummies.head()\n",
        "#dados = dados_dummies\n",
        "dados = dados_dummies.drop(columns=['sex','chol','fbs','restecg','exang','slope'])\n",
        "#dados = pd.concat([dados_dummies, df_dados[['target', 'age', 'trestbps', 'thalach', 'oldpeak']]])"
      ],
      "metadata": {
        "id": "-sR5C5R0GWpP"
      },
      "execution_count": null,
      "outputs": []
    },
    {
      "cell_type": "code",
      "source": [
        "# separando em dados X (variáveis independentes) e y (target ou variável dependente)\n",
        "y = dados['target']\n",
        "x = dados.drop(columns = 'target')"
      ],
      "metadata": {
        "id": "io9lxEFQ_ivA"
      },
      "execution_count": null,
      "outputs": []
    },
    {
      "cell_type": "code",
      "source": [
        "# printando os valores das variáveis independentes X (formato de matriz)\n",
        "x"
      ],
      "metadata": {
        "colab": {
          "base_uri": "https://localhost:8080/",
          "height": 423
        },
        "id": "CkZDvNUU_zGU",
        "outputId": "5820ad5e-db2b-4d90-b597-a14e0b29498a"
      },
      "execution_count": null,
      "outputs": [
        {
          "output_type": "execute_result",
          "data": {
            "text/plain": [
              "     age  trestbps  thalach  oldpeak  cp_1  cp_2  cp_3  ca_1  ca_2  ca_3  \\\n",
              "0     70       130      109      2.4     0     0     1     0     0     1   \n",
              "1     67       115      160      1.6     0     1     0     0     0     0   \n",
              "2     57       124      141      0.3     1     0     0     0     0     0   \n",
              "3     64       128      105      0.2     0     0     1     1     0     0   \n",
              "4     74       120      121      0.2     1     0     0     1     0     0   \n",
              "..   ...       ...      ...      ...   ...   ...   ...   ...   ...   ...   \n",
              "265   52       172      162      0.5     0     1     0     0     0     0   \n",
              "266   44       120      173      0.0     1     0     0     0     0     0   \n",
              "267   56       140      153      1.3     1     0     0     0     0     0   \n",
              "268   57       140      148      0.4     0     0     1     0     0     0   \n",
              "269   67       160      108      1.5     0     0     1     0     0     1   \n",
              "\n",
              "     thal_2  thal_3  \n",
              "0         0       0  \n",
              "1         0       1  \n",
              "2         0       1  \n",
              "3         0       1  \n",
              "4         0       0  \n",
              "..      ...     ...  \n",
              "265       0       1  \n",
              "266       0       1  \n",
              "267       0       0  \n",
              "268       1       0  \n",
              "269       0       0  \n",
              "\n",
              "[270 rows x 12 columns]"
            ],
            "text/html": [
              "\n",
              "  <div id=\"df-4a63e00a-5a27-4b50-a836-25e2049852db\">\n",
              "    <div class=\"colab-df-container\">\n",
              "      <div>\n",
              "<style scoped>\n",
              "    .dataframe tbody tr th:only-of-type {\n",
              "        vertical-align: middle;\n",
              "    }\n",
              "\n",
              "    .dataframe tbody tr th {\n",
              "        vertical-align: top;\n",
              "    }\n",
              "\n",
              "    .dataframe thead th {\n",
              "        text-align: right;\n",
              "    }\n",
              "</style>\n",
              "<table border=\"1\" class=\"dataframe\">\n",
              "  <thead>\n",
              "    <tr style=\"text-align: right;\">\n",
              "      <th></th>\n",
              "      <th>age</th>\n",
              "      <th>trestbps</th>\n",
              "      <th>thalach</th>\n",
              "      <th>oldpeak</th>\n",
              "      <th>cp_1</th>\n",
              "      <th>cp_2</th>\n",
              "      <th>cp_3</th>\n",
              "      <th>ca_1</th>\n",
              "      <th>ca_2</th>\n",
              "      <th>ca_3</th>\n",
              "      <th>thal_2</th>\n",
              "      <th>thal_3</th>\n",
              "    </tr>\n",
              "  </thead>\n",
              "  <tbody>\n",
              "    <tr>\n",
              "      <th>0</th>\n",
              "      <td>70</td>\n",
              "      <td>130</td>\n",
              "      <td>109</td>\n",
              "      <td>2.4</td>\n",
              "      <td>0</td>\n",
              "      <td>0</td>\n",
              "      <td>1</td>\n",
              "      <td>0</td>\n",
              "      <td>0</td>\n",
              "      <td>1</td>\n",
              "      <td>0</td>\n",
              "      <td>0</td>\n",
              "    </tr>\n",
              "    <tr>\n",
              "      <th>1</th>\n",
              "      <td>67</td>\n",
              "      <td>115</td>\n",
              "      <td>160</td>\n",
              "      <td>1.6</td>\n",
              "      <td>0</td>\n",
              "      <td>1</td>\n",
              "      <td>0</td>\n",
              "      <td>0</td>\n",
              "      <td>0</td>\n",
              "      <td>0</td>\n",
              "      <td>0</td>\n",
              "      <td>1</td>\n",
              "    </tr>\n",
              "    <tr>\n",
              "      <th>2</th>\n",
              "      <td>57</td>\n",
              "      <td>124</td>\n",
              "      <td>141</td>\n",
              "      <td>0.3</td>\n",
              "      <td>1</td>\n",
              "      <td>0</td>\n",
              "      <td>0</td>\n",
              "      <td>0</td>\n",
              "      <td>0</td>\n",
              "      <td>0</td>\n",
              "      <td>0</td>\n",
              "      <td>1</td>\n",
              "    </tr>\n",
              "    <tr>\n",
              "      <th>3</th>\n",
              "      <td>64</td>\n",
              "      <td>128</td>\n",
              "      <td>105</td>\n",
              "      <td>0.2</td>\n",
              "      <td>0</td>\n",
              "      <td>0</td>\n",
              "      <td>1</td>\n",
              "      <td>1</td>\n",
              "      <td>0</td>\n",
              "      <td>0</td>\n",
              "      <td>0</td>\n",
              "      <td>1</td>\n",
              "    </tr>\n",
              "    <tr>\n",
              "      <th>4</th>\n",
              "      <td>74</td>\n",
              "      <td>120</td>\n",
              "      <td>121</td>\n",
              "      <td>0.2</td>\n",
              "      <td>1</td>\n",
              "      <td>0</td>\n",
              "      <td>0</td>\n",
              "      <td>1</td>\n",
              "      <td>0</td>\n",
              "      <td>0</td>\n",
              "      <td>0</td>\n",
              "      <td>0</td>\n",
              "    </tr>\n",
              "    <tr>\n",
              "      <th>...</th>\n",
              "      <td>...</td>\n",
              "      <td>...</td>\n",
              "      <td>...</td>\n",
              "      <td>...</td>\n",
              "      <td>...</td>\n",
              "      <td>...</td>\n",
              "      <td>...</td>\n",
              "      <td>...</td>\n",
              "      <td>...</td>\n",
              "      <td>...</td>\n",
              "      <td>...</td>\n",
              "      <td>...</td>\n",
              "    </tr>\n",
              "    <tr>\n",
              "      <th>265</th>\n",
              "      <td>52</td>\n",
              "      <td>172</td>\n",
              "      <td>162</td>\n",
              "      <td>0.5</td>\n",
              "      <td>0</td>\n",
              "      <td>1</td>\n",
              "      <td>0</td>\n",
              "      <td>0</td>\n",
              "      <td>0</td>\n",
              "      <td>0</td>\n",
              "      <td>0</td>\n",
              "      <td>1</td>\n",
              "    </tr>\n",
              "    <tr>\n",
              "      <th>266</th>\n",
              "      <td>44</td>\n",
              "      <td>120</td>\n",
              "      <td>173</td>\n",
              "      <td>0.0</td>\n",
              "      <td>1</td>\n",
              "      <td>0</td>\n",
              "      <td>0</td>\n",
              "      <td>0</td>\n",
              "      <td>0</td>\n",
              "      <td>0</td>\n",
              "      <td>0</td>\n",
              "      <td>1</td>\n",
              "    </tr>\n",
              "    <tr>\n",
              "      <th>267</th>\n",
              "      <td>56</td>\n",
              "      <td>140</td>\n",
              "      <td>153</td>\n",
              "      <td>1.3</td>\n",
              "      <td>1</td>\n",
              "      <td>0</td>\n",
              "      <td>0</td>\n",
              "      <td>0</td>\n",
              "      <td>0</td>\n",
              "      <td>0</td>\n",
              "      <td>0</td>\n",
              "      <td>0</td>\n",
              "    </tr>\n",
              "    <tr>\n",
              "      <th>268</th>\n",
              "      <td>57</td>\n",
              "      <td>140</td>\n",
              "      <td>148</td>\n",
              "      <td>0.4</td>\n",
              "      <td>0</td>\n",
              "      <td>0</td>\n",
              "      <td>1</td>\n",
              "      <td>0</td>\n",
              "      <td>0</td>\n",
              "      <td>0</td>\n",
              "      <td>1</td>\n",
              "      <td>0</td>\n",
              "    </tr>\n",
              "    <tr>\n",
              "      <th>269</th>\n",
              "      <td>67</td>\n",
              "      <td>160</td>\n",
              "      <td>108</td>\n",
              "      <td>1.5</td>\n",
              "      <td>0</td>\n",
              "      <td>0</td>\n",
              "      <td>1</td>\n",
              "      <td>0</td>\n",
              "      <td>0</td>\n",
              "      <td>1</td>\n",
              "      <td>0</td>\n",
              "      <td>0</td>\n",
              "    </tr>\n",
              "  </tbody>\n",
              "</table>\n",
              "<p>270 rows × 12 columns</p>\n",
              "</div>\n",
              "      <button class=\"colab-df-convert\" onclick=\"convertToInteractive('df-4a63e00a-5a27-4b50-a836-25e2049852db')\"\n",
              "              title=\"Convert this dataframe to an interactive table.\"\n",
              "              style=\"display:none;\">\n",
              "        \n",
              "  <svg xmlns=\"http://www.w3.org/2000/svg\" height=\"24px\"viewBox=\"0 0 24 24\"\n",
              "       width=\"24px\">\n",
              "    <path d=\"M0 0h24v24H0V0z\" fill=\"none\"/>\n",
              "    <path d=\"M18.56 5.44l.94 2.06.94-2.06 2.06-.94-2.06-.94-.94-2.06-.94 2.06-2.06.94zm-11 1L8.5 8.5l.94-2.06 2.06-.94-2.06-.94L8.5 2.5l-.94 2.06-2.06.94zm10 10l.94 2.06.94-2.06 2.06-.94-2.06-.94-.94-2.06-.94 2.06-2.06.94z\"/><path d=\"M17.41 7.96l-1.37-1.37c-.4-.4-.92-.59-1.43-.59-.52 0-1.04.2-1.43.59L10.3 9.45l-7.72 7.72c-.78.78-.78 2.05 0 2.83L4 21.41c.39.39.9.59 1.41.59.51 0 1.02-.2 1.41-.59l7.78-7.78 2.81-2.81c.8-.78.8-2.07 0-2.86zM5.41 20L4 18.59l7.72-7.72 1.47 1.35L5.41 20z\"/>\n",
              "  </svg>\n",
              "      </button>\n",
              "      \n",
              "  <style>\n",
              "    .colab-df-container {\n",
              "      display:flex;\n",
              "      flex-wrap:wrap;\n",
              "      gap: 12px;\n",
              "    }\n",
              "\n",
              "    .colab-df-convert {\n",
              "      background-color: #E8F0FE;\n",
              "      border: none;\n",
              "      border-radius: 50%;\n",
              "      cursor: pointer;\n",
              "      display: none;\n",
              "      fill: #1967D2;\n",
              "      height: 32px;\n",
              "      padding: 0 0 0 0;\n",
              "      width: 32px;\n",
              "    }\n",
              "\n",
              "    .colab-df-convert:hover {\n",
              "      background-color: #E2EBFA;\n",
              "      box-shadow: 0px 1px 2px rgba(60, 64, 67, 0.3), 0px 1px 3px 1px rgba(60, 64, 67, 0.15);\n",
              "      fill: #174EA6;\n",
              "    }\n",
              "\n",
              "    [theme=dark] .colab-df-convert {\n",
              "      background-color: #3B4455;\n",
              "      fill: #D2E3FC;\n",
              "    }\n",
              "\n",
              "    [theme=dark] .colab-df-convert:hover {\n",
              "      background-color: #434B5C;\n",
              "      box-shadow: 0px 1px 3px 1px rgba(0, 0, 0, 0.15);\n",
              "      filter: drop-shadow(0px 1px 2px rgba(0, 0, 0, 0.3));\n",
              "      fill: #FFFFFF;\n",
              "    }\n",
              "  </style>\n",
              "\n",
              "      <script>\n",
              "        const buttonEl =\n",
              "          document.querySelector('#df-4a63e00a-5a27-4b50-a836-25e2049852db button.colab-df-convert');\n",
              "        buttonEl.style.display =\n",
              "          google.colab.kernel.accessAllowed ? 'block' : 'none';\n",
              "\n",
              "        async function convertToInteractive(key) {\n",
              "          const element = document.querySelector('#df-4a63e00a-5a27-4b50-a836-25e2049852db');\n",
              "          const dataTable =\n",
              "            await google.colab.kernel.invokeFunction('convertToInteractive',\n",
              "                                                     [key], {});\n",
              "          if (!dataTable) return;\n",
              "\n",
              "          const docLinkHtml = 'Like what you see? Visit the ' +\n",
              "            '<a target=\"_blank\" href=https://colab.research.google.com/notebooks/data_table.ipynb>data table notebook</a>'\n",
              "            + ' to learn more about interactive tables.';\n",
              "          element.innerHTML = '';\n",
              "          dataTable['output_type'] = 'display_data';\n",
              "          await google.colab.output.renderOutput(dataTable, element);\n",
              "          const docLink = document.createElement('div');\n",
              "          docLink.innerHTML = docLinkHtml;\n",
              "          element.appendChild(docLink);\n",
              "        }\n",
              "      </script>\n",
              "    </div>\n",
              "  </div>\n",
              "  "
            ]
          },
          "metadata": {},
          "execution_count": 51
        }
      ]
    },
    {
      "cell_type": "code",
      "source": [
        "# printando os valores da variável dependente y (formato de vetor)\n",
        "y"
      ],
      "metadata": {
        "colab": {
          "base_uri": "https://localhost:8080/"
        },
        "id": "19Ugt43N_4mX",
        "outputId": "58f08023-5987-4020-beeb-69957405a280"
      },
      "execution_count": null,
      "outputs": [
        {
          "output_type": "execute_result",
          "data": {
            "text/plain": [
              "0      1\n",
              "1      0\n",
              "2      1\n",
              "3      0\n",
              "4      0\n",
              "      ..\n",
              "265    0\n",
              "266    0\n",
              "267    0\n",
              "268    0\n",
              "269    1\n",
              "Name: target, Length: 270, dtype: int64"
            ]
          },
          "metadata": {},
          "execution_count": 52
        }
      ]
    },
    {
      "cell_type": "code",
      "source": [
        "# dividindo x e y em treino e teste\n",
        "SEED = 77\n",
        "treino_x, teste_x, treino_y, teste_y = train_test_split(x, y, test_size = 0.30, random_state = SEED)"
      ],
      "metadata": {
        "id": "sFbYH8ReDCCi"
      },
      "execution_count": null,
      "outputs": []
    },
    {
      "cell_type": "code",
      "source": [
        "# verificando o tamanho das bases de treino e de teste pelas linhas\n",
        "base_treino = treino_x.shape[0]\n",
        "base_teste = teste_x.shape[0]\n",
        "print('A base de teste de treino tem %s elementos e a base de teste tem %s elementos.' %(base_treino, base_teste))"
      ],
      "metadata": {
        "colab": {
          "base_uri": "https://localhost:8080/"
        },
        "id": "akOPm0knDutQ",
        "outputId": "f9e4983c-acf3-450c-d9da-b46ef20f31c3"
      },
      "execution_count": null,
      "outputs": [
        {
          "output_type": "stream",
          "name": "stdout",
          "text": [
            "A base de teste de treino tem 189 elementos e a base de teste tem 81 elementos.\n"
          ]
        }
      ]
    },
    {
      "cell_type": "code",
      "source": [
        "# aplicando o algoritmo de regressão logística e calculando a acurácia de treino\n",
        "modelo = LogisticRegression(max_iter=1000)\n",
        "modelo.fit(treino_x, treino_y)\n",
        "round(modelo.score(treino_x, treino_y), 3)*100"
      ],
      "metadata": {
        "colab": {
          "base_uri": "https://localhost:8080/"
        },
        "id": "mShMyPi3__SB",
        "outputId": "9d6b0e93-3bcc-422f-8fa4-c8434232fd15"
      },
      "execution_count": null,
      "outputs": [
        {
          "output_type": "execute_result",
          "data": {
            "text/plain": [
              "85.2"
            ]
          },
          "metadata": {},
          "execution_count": 55
        }
      ]
    },
    {
      "cell_type": "code",
      "source": [
        "# imprimindo a tabela resumo\n",
        "\n",
        "reg_log = sm.Logit(treino_y, treino_x).fit()\n",
        "print(reg_log.summary())"
      ],
      "metadata": {
        "colab": {
          "base_uri": "https://localhost:8080/"
        },
        "id": "ztvNM3-hZ7ZZ",
        "outputId": "91b09d51-5a03-43c8-f8d5-13226f51a7f6"
      },
      "execution_count": null,
      "outputs": [
        {
          "output_type": "stream",
          "name": "stdout",
          "text": [
            "Optimization terminated successfully.\n",
            "         Current function value: 0.328591\n",
            "         Iterations 7\n",
            "                           Logit Regression Results                           \n",
            "==============================================================================\n",
            "Dep. Variable:                 target   No. Observations:                  189\n",
            "Model:                          Logit   Df Residuals:                      177\n",
            "Method:                           MLE   Df Model:                           11\n",
            "Date:                Mon, 15 May 2023   Pseudo R-squ.:                  0.5199\n",
            "Time:                        12:48:23   Log-Likelihood:                -62.104\n",
            "converged:                       True   LL-Null:                       -129.35\n",
            "Covariance Type:            nonrobust   LLR p-value:                 2.148e-23\n",
            "==============================================================================\n",
            "                 coef    std err          z      P>|z|      [0.025      0.975]\n",
            "------------------------------------------------------------------------------\n",
            "age           -0.0357      0.026     -1.384      0.166      -0.086       0.015\n",
            "trestbps       0.0215      0.014      1.550      0.121      -0.006       0.049\n",
            "thalach       -0.0289      0.009     -3.216      0.001      -0.046      -0.011\n",
            "oldpeak        0.8738      0.273      3.204      0.001       0.339       1.408\n",
            "cp_1           0.1674      1.103      0.152      0.879      -1.995       2.330\n",
            "cp_2          -0.6357      0.864     -0.736      0.462      -2.328       1.057\n",
            "cp_3           1.7691      0.772      2.292      0.022       0.256       3.282\n",
            "ca_1           2.3107      0.608      3.799      0.000       1.119       3.503\n",
            "ca_2           2.6552      0.898      2.956      0.003       0.895       4.416\n",
            "ca_3           2.2390      1.029      2.176      0.030       0.222       4.256\n",
            "thal_2        -0.4629      1.006     -0.460      0.645      -2.434       1.509\n",
            "thal_3         1.4126      0.496      2.850      0.004       0.441       2.384\n",
            "==============================================================================\n"
          ]
        }
      ]
    },
    {
      "cell_type": "markdown",
      "source": [
        "variáveis relevantes: variáveis com p < 0.05 e maiores coeficientes ??\n",
        "\n",
        "**Quanto ao tipo de dor torácia**:\n",
        "- A chance de um paciente ter doença cardíaca é 18% maior se o paciente sente angina atípica, se todas as outras variáveis forem constantes, dada uma razão de probabilidade de exp(0,1674) = 1,18.\n",
        "- A chance de um paciente ter doença cardíaca é 47% menor se o paciente sente dor não anginosa, se todas as outras variáveis forem constantes, dado um coeficiente de probabilidade de exp(-0,6357) = 0,53.\n",
        "- A chance de um paciente ter doença cardíaca é 5,87 vezes maior se o paciente é assintomático, se todas as outras variáveis forem constantes, dada uma razão de chance de exp(0,1674) = 5,87.\n",
        "\n",
        "**Quanto ao número de vasos principais**:\n",
        "- A chance de um paciente ter doença cardíaca é 10 vezes maior se o paciente tem 1 vaso principal, se todas as outras variáveis forem constantes, dada uma razão de chance de exp(2,3107) = 10,08.\n",
        "- A chance de um paciente ter doença cardíaca é 14 vezes maior se o paciente tem 2 vasos principais, se todas as outras variáveis forem constantes, dada uma razão de chance de exp(2,6552) = 14,23.\n",
        "- A chance de um paciente ter doença cardíaca é 9 vezes maior se o paciente tem 3 vasos principais, se todas as outras variáveis forem constantes, dada uma razão de chance de exp(2,2390) = 9,38.\n",
        "\n",
        "**Quanto ao distúrbio sanguíneo chamado talassemia**:\n",
        "- A chance de um paciente ter doença cardíaca é 37% menor se o paciente tem defeito fixo (sem fluxo sanguíneo em alguma parte do coração), se todas as outras variáveis forem constantes, dado um coeficiente de probabilidade de exp(-0,4629) = 0,63.\n",
        "- A chance de um paciente ter doença cardíaca é 4 vezes maior se o paciente tem defeito reversível (um fluxo sanguíneo é observado, mas não é normal (nominal), se todas as outras variáveis forem constantes, dada uma razão de chance de exp(1,4126) = 4,11."
      ],
      "metadata": {
        "id": "QV7eVFQNkTd0"
      }
    },
    {
      "cell_type": "code",
      "source": [
        "# aplicando o método predict na base de teste\n",
        "previsoes = modelo.predict(teste_x)\n",
        "previsoes"
      ],
      "metadata": {
        "colab": {
          "base_uri": "https://localhost:8080/"
        },
        "id": "qlh5Nh21AD8V",
        "outputId": "fa9bb959-3205-4241-b1c1-77c51e22ebd9"
      },
      "execution_count": null,
      "outputs": [
        {
          "output_type": "execute_result",
          "data": {
            "text/plain": [
              "array([1, 0, 1, 0, 0, 0, 0, 0, 1, 0, 0, 1, 1, 1, 0, 1, 0, 1, 0, 0, 0, 0,\n",
              "       0, 0, 1, 1, 0, 0, 1, 1, 1, 0, 1, 1, 0, 0, 0, 0, 0, 0, 0, 0, 0, 1,\n",
              "       1, 0, 0, 1, 1, 0, 0, 0, 1, 0, 1, 0, 1, 1, 0, 1, 0, 0, 0, 0, 0, 0,\n",
              "       0, 0, 0, 0, 1, 0, 0, 0, 1, 0, 1, 0, 0, 1, 0])"
            ]
          },
          "metadata": {},
          "execution_count": 57
        }
      ]
    },
    {
      "cell_type": "code",
      "source": [
        "#  calculando a acurácia de teste a partir das previsões\n",
        "acuracia = accuracy_score(teste_y, previsoes)\n",
        "acuracia = round(acuracia, 3)*100\n",
        "acuracia"
      ],
      "metadata": {
        "colab": {
          "base_uri": "https://localhost:8080/"
        },
        "id": "u2vuaUONJ6nx",
        "outputId": "2cc767ee-2b7d-4154-fddf-c11c781e1e6a"
      },
      "execution_count": null,
      "outputs": [
        {
          "output_type": "execute_result",
          "data": {
            "text/plain": [
              "80.2"
            ]
          },
          "metadata": {},
          "execution_count": 58
        }
      ]
    },
    {
      "cell_type": "code",
      "source": [
        "# aplicando o método score (outra forma de calcular a acurácia)\n",
        "round(modelo.score(teste_x, teste_y), 3)*100"
      ],
      "metadata": {
        "colab": {
          "base_uri": "https://localhost:8080/"
        },
        "id": "5SUiCab3UyBV",
        "outputId": "483810d5-9328-4f01-b417-d04ceadd2bc5"
      },
      "execution_count": null,
      "outputs": [
        {
          "output_type": "execute_result",
          "data": {
            "text/plain": [
              "80.2"
            ]
          },
          "metadata": {},
          "execution_count": 59
        }
      ]
    },
    {
      "cell_type": "markdown",
      "source": [
        "Temos como resultado a probabilidade de acerto entre os valores previstos e os reais fornecidos"
      ],
      "metadata": {
        "id": "9EAjYbnkUmwT"
      }
    },
    {
      "cell_type": "code",
      "source": [
        "# aplicando o método predict_proba\n",
        "modelo.predict_proba(teste_x)"
      ],
      "metadata": {
        "colab": {
          "base_uri": "https://localhost:8080/"
        },
        "id": "aYMxVaudAVl7",
        "outputId": "8eba947f-7bda-4e41-ec2a-9adcb9805fe7"
      },
      "execution_count": null,
      "outputs": [
        {
          "output_type": "execute_result",
          "data": {
            "text/plain": [
              "array([[0.05924414, 0.94075586],\n",
              "       [0.96465904, 0.03534096],\n",
              "       [0.02678004, 0.97321996],\n",
              "       [0.93772816, 0.06227184],\n",
              "       [0.97258481, 0.02741519],\n",
              "       [0.98213973, 0.01786027],\n",
              "       [0.96444974, 0.03555026],\n",
              "       [0.71750035, 0.28249965],\n",
              "       [0.02246246, 0.97753754],\n",
              "       [0.69712327, 0.30287673],\n",
              "       [0.57081322, 0.42918678],\n",
              "       [0.01870948, 0.98129052],\n",
              "       [0.05689623, 0.94310377],\n",
              "       [0.41882437, 0.58117563],\n",
              "       [0.84062659, 0.15937341],\n",
              "       [0.06880335, 0.93119665],\n",
              "       [0.73256648, 0.26743352],\n",
              "       [0.11416227, 0.88583773],\n",
              "       [0.95060208, 0.04939792],\n",
              "       [0.94078682, 0.05921318],\n",
              "       [0.79694471, 0.20305529],\n",
              "       [0.79242443, 0.20757557],\n",
              "       [0.97938459, 0.02061541],\n",
              "       [0.93297668, 0.06702332],\n",
              "       [0.47046984, 0.52953016],\n",
              "       [0.38381413, 0.61618587],\n",
              "       [0.52931357, 0.47068643],\n",
              "       [0.98156241, 0.01843759],\n",
              "       [0.16278906, 0.83721094],\n",
              "       [0.02063764, 0.97936236],\n",
              "       [0.30980335, 0.69019665],\n",
              "       [0.90034455, 0.09965545],\n",
              "       [0.04634841, 0.95365159],\n",
              "       [0.45337451, 0.54662549],\n",
              "       [0.81943343, 0.18056657],\n",
              "       [0.58680142, 0.41319858],\n",
              "       [0.96678146, 0.03321854],\n",
              "       [0.82927773, 0.17072227],\n",
              "       [0.96029997, 0.03970003],\n",
              "       [0.57482295, 0.42517705],\n",
              "       [0.55537132, 0.44462868],\n",
              "       [0.69976568, 0.30023432],\n",
              "       [0.97811386, 0.02188614],\n",
              "       [0.02767905, 0.97232095],\n",
              "       [0.05613317, 0.94386683],\n",
              "       [0.7736699 , 0.2263301 ],\n",
              "       [0.8970764 , 0.1029236 ],\n",
              "       [0.014983  , 0.985017  ],\n",
              "       [0.03000599, 0.96999401],\n",
              "       [0.60890253, 0.39109747],\n",
              "       [0.73839048, 0.26160952],\n",
              "       [0.58216627, 0.41783373],\n",
              "       [0.3575582 , 0.6424418 ],\n",
              "       [0.84600306, 0.15399694],\n",
              "       [0.18184401, 0.81815599],\n",
              "       [0.84357029, 0.15642971],\n",
              "       [0.31440595, 0.68559405],\n",
              "       [0.15341318, 0.84658682],\n",
              "       [0.92968717, 0.07031283],\n",
              "       [0.06324288, 0.93675712],\n",
              "       [0.86526105, 0.13473895],\n",
              "       [0.90589452, 0.09410548],\n",
              "       [0.69713601, 0.30286399],\n",
              "       [0.56070048, 0.43929952],\n",
              "       [0.99036497, 0.00963503],\n",
              "       [0.97859641, 0.02140359],\n",
              "       [0.59125119, 0.40874881],\n",
              "       [0.89134403, 0.10865597],\n",
              "       [0.82294557, 0.17705443],\n",
              "       [0.9091385 , 0.0908615 ],\n",
              "       [0.07361012, 0.92638988],\n",
              "       [0.58500438, 0.41499562],\n",
              "       [0.97777048, 0.02222952],\n",
              "       [0.50759644, 0.49240356],\n",
              "       [0.25395471, 0.74604529],\n",
              "       [0.95322656, 0.04677344],\n",
              "       [0.0044423 , 0.9955577 ],\n",
              "       [0.9764187 , 0.0235813 ],\n",
              "       [0.70930276, 0.29069724],\n",
              "       [0.07800351, 0.92199649],\n",
              "       [0.73676191, 0.26323809]])"
            ]
          },
          "metadata": {},
          "execution_count": 60
        }
      ]
    },
    {
      "cell_type": "markdown",
      "source": [
        "Esse método define a probabilidade do paciente sofrer uma doença cardíaca. Exemplo: Para a linha 1, tem as seguintes probabilidades de sofrer uma doença cardíaca:\n",
        "- A probabilidade de pertencer a classe 0, que significa que o paciente é normal, é de 0.059;\n",
        "- A probabilidade de pertencer a classe 1, que significa que o paciente sofre de doença cardíaca, é de 0.941."
      ],
      "metadata": {
        "id": "E77MapYXAySH"
      }
    },
    {
      "cell_type": "code",
      "source": [
        "# plotando a matriz de confusão\n",
        "matriz_confusao = confusion_matrix(teste_y, previsoes)\n",
        "print(matriz_confusao)"
      ],
      "metadata": {
        "id": "F9sRxl0aAkP9",
        "colab": {
          "base_uri": "https://localhost:8080/"
        },
        "outputId": "0bb794ed-8027-47ca-d956-6ebab0ceb3cb"
      },
      "execution_count": null,
      "outputs": [
        {
          "output_type": "stream",
          "name": "stdout",
          "text": [
            "[[40  3]\n",
            " [13 25]]\n"
          ]
        }
      ]
    },
    {
      "cell_type": "markdown",
      "source": [
        "O resultado mostra que foram obtidas 65 (40+25) previsões corretas 16 (13+3) previsões incorretas.\n",
        "\n",
        "A matriz obtida mostra o seguinte:\n",
        "\n",
        "40 previsões negativas verdadeiras: As 40 primeiras observações são zeros previstos corretamente.\n",
        "\n",
        "13 previsões falso-negativas: são aquelas previstas erroneamente como zeros.\n",
        "\n",
        "3 previsões falso-positivas: são aquelas previstas erroneamente como um.\n",
        "\n",
        "25 previsões positivas verdadeiras: são aquelas previstas corretamente como um."
      ],
      "metadata": {
        "id": "QFn8VSdbJk_k"
      }
    },
    {
      "cell_type": "code",
      "source": [
        "# visualizando a matriz de confusão\n",
        "\n",
        "cm = confusion_matrix(teste_y, previsoes)\n",
        "\n",
        "fig, ax = plt.subplots(figsize=(8, 8))\n",
        "ax.imshow(cm)\n",
        "ax.grid(False)\n",
        "ax.xaxis.set(ticks=(0, 1), ticklabels=('0s Previstos', '1s Previstos'))\n",
        "ax.yaxis.set(ticks=(0, 1), ticklabels=('0s Reais', '1s Reais'))\n",
        "ax.set_ylim(1.5, -0.5)\n",
        "for i in range(2):\n",
        "    for j in range(2):\n",
        "        ax.text(j, i, cm[i, j], ha='center', va='center', color='red')\n",
        "plt.show()"
      ],
      "metadata": {
        "colab": {
          "base_uri": "https://localhost:8080/",
          "height": 676
        },
        "id": "aFQUnvzIdraw",
        "outputId": "390d175a-9f4c-4767-b81a-8c121c9ee2e1"
      },
      "execution_count": null,
      "outputs": [
        {
          "output_type": "display_data",
          "data": {
            "text/plain": [
              "<Figure size 800x800 with 1 Axes>"
            ],
            "image/png": "[encoded data removed]"
          },
          "metadata": {}
        }
      ]
    },
    {
      "cell_type": "code",
      "source": [
        "# organizando e compilando as funções derivadas da matriz de confusão\n",
        "print(classification_report(teste_y, previsoes))"
      ],
      "metadata": {
        "colab": {
          "base_uri": "https://localhost:8080/"
        },
        "id": "EPNcWS2pMXKn",
        "outputId": "5a7abbff-096d-4e12-9f9b-7cf5ebbbf340"
      },
      "execution_count": null,
      "outputs": [
        {
          "output_type": "stream",
          "name": "stdout",
          "text": [
            "              precision    recall  f1-score   support\n",
            "\n",
            "           0       0.75      0.93      0.83        43\n",
            "           1       0.89      0.66      0.76        38\n",
            "\n",
            "    accuracy                           0.80        81\n",
            "   macro avg       0.82      0.79      0.80        81\n",
            "weighted avg       0.82      0.80      0.80        81\n",
            "\n"
          ]
        }
      ]
    },
    {
      "cell_type": "markdown",
      "source": [
        "80% de acurácia: a cada 100 casos, o modelo acerta 80 casos.\n",
        "\n",
        "Precisão: proporção de predições corretas de uma categoria em relação a todas as predições desta categoria.\n",
        "\n",
        "Recall: Proporção de predições corretas de categoria alvo.\n",
        "\n",
        "F1-Score: Média harmônica entre precisão e recall.\n",
        "\n",
        "Support: a quantidade absoluta de casos encontrados em cada categoria."
      ],
      "metadata": {
        "id": "TCAJ41LlMuuw"
      }
    },
    {
      "cell_type": "code",
      "source": [
        "# Gráfico de curva ROC\n",
        "prob_previsao = modelo.predict_proba(teste_x)[:,1]\n",
        "\n",
        "#tfp: taxa de falsos positivos\n",
        "#tvp: taxa de verdadeiros positivos\n",
        "\n",
        "tfp, tvp, limite = roc_curve(teste_y, prob_previsao)\n",
        "print('roc_auc', roc_auc_score(teste_y, prob_previsao))\n",
        "\n",
        "plt.subplots(1, figsize = (5,5))\n",
        "plt.title ('Curva ROC')\n",
        "plt.plot(tfp,tvp)\n",
        "plt.xlabel('Especificidade')\n",
        "plt.ylabel('Sensibilidade')\n",
        "plt.plot([0,1], ls=\"--\", c= 'red')\n",
        "\n",
        "plt.plot([0,0],[1,0], ls=\"--\", c= 'green'), plt.plot([1,1], ls=\"--\", c= 'green')\n",
        "\n",
        "plt.show()"
      ],
      "metadata": {
        "id": "piOvSl0pXx8O",
        "colab": {
          "base_uri": "https://localhost:8080/",
          "height": 505
        },
        "outputId": "2a8026b8-3cd3-4fcd-ec1b-6dc24ade5031"
      },
      "execution_count": null,
      "outputs": [
        {
          "output_type": "stream",
          "name": "stdout",
          "text": [
            "roc_auc 0.8910648714810281\n"
          ]
        },
        {
          "output_type": "display_data",
          "data": {
            "text/plain": [
              "<Figure size 500x500 with 1 Axes>"
            ],
            "image/png": "[encoded data removed]"
          },
          "metadata": {}
        }
      ]
    },
    {
      "cell_type": "markdown",
      "source": [
        "Linha vermelha: representa um modelo completamente aleatório, onde todas as previsões do modelo não seguem nenhuma tendência de dados / regra;\n",
        "\n",
        "Linha verde: indica um modelo perfeito, onde todas as predições estão corretas;\n",
        "\n",
        "AUC: área sob a curva ROC; quantifica a curva ROC, ou seja, através da área sob a curva, avalia o resultado do gráfico.\n",
        "\n",
        "Convenção Estatística:\n",
        "\n",
        "- área < 0,7: baixa discriminação;\n",
        "- 0,7 ≤ área < 0,8: discriminação aceitável;\n",
        "- 0,8 ≤ área < 0,9: discriminação excelente;\n",
        "- área > 0,9: discriminação excepcional.\n",
        "\n",
        "**AUC = 0,89 -> o modelo gerou uma discriminação excelente**"
      ],
      "metadata": {
        "id": "cduNyrAERn0s"
      }
    },
    {
      "cell_type": "code",
      "source": [],
      "metadata": {
        "id": "fo5pvtTATiQy"
      },
      "execution_count": null,
      "outputs": []
    }
  ]
}